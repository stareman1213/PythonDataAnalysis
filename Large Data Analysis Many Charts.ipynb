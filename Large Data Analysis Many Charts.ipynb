{
 "cells": [
  {
   "cell_type": "code",
   "execution_count": 1,
   "metadata": {},
   "outputs": [],
   "source": [
    "%matplotlib inline\n",
    "import pandas as pd\n",
    "import numpy as np\n",
    "from scipy import stats\n",
    "import matplotlib.pyplot as plt\n",
    "import seaborn as sns\n",
    "import json\n",
    "from pandas.io.json import json_normalize\n",
    "from wordcloud import WordCloud, STOPWORDS"
   ]
  },
  {
   "cell_type": "code",
   "execution_count": 2,
   "metadata": {},
   "outputs": [],
   "source": [
    "month_order = ['Jan', 'Feb', 'Mar', 'Apr', 'May', 'Jun', 'Jul', 'Aug', 'Sep', 'Oct', 'Nov', 'Dec']\n",
    "day_order = ['Mon', 'Tue', 'Wed', 'Thu', 'Fri', 'Sat', 'Sun']"
   ]
  },
  {
   "cell_type": "code",
   "execution_count": 3,
   "metadata": {},
   "outputs": [
    {
     "data": {
      "text/plain": [
       "Index([u'PHONENUMBER', u'CURRENTOPID', u'NRHOPID', u'STATE', u'CREATEDATE',\n",
       "       u'LASTUSEDATE', u'TYPE', u'SS7RN', u'SS7DN', u'SMRI', u'MMSRI',\n",
       "       u'VOIPRI', u'RIUPDATEDATE', u'HISTORYSTATE'],\n",
       "      dtype='object')"
      ]
     },
     "execution_count": 3,
     "metadata": {},
     "output_type": "execute_result"
    }
   ],
   "source": [
    "df = pd.read_csv('.//data//msisdn_history.csv' , low_memory=False)\n",
    "df.columns"
   ]
  },
  {
   "cell_type": "code",
   "execution_count": 4,
   "metadata": {},
   "outputs": [
    {
     "data": {
      "text/html": [
       "<div>\n",
       "<style scoped>\n",
       "    .dataframe tbody tr th:only-of-type {\n",
       "        vertical-align: middle;\n",
       "    }\n",
       "\n",
       "    .dataframe tbody tr th {\n",
       "        vertical-align: top;\n",
       "    }\n",
       "\n",
       "    .dataframe thead th {\n",
       "        text-align: right;\n",
       "    }\n",
       "</style>\n",
       "<table border=\"1\" class=\"dataframe\">\n",
       "  <thead>\n",
       "    <tr style=\"text-align: right;\">\n",
       "      <th></th>\n",
       "      <th>PHONENUMBER</th>\n",
       "      <th>CURRENTOPID</th>\n",
       "      <th>NRHOPID</th>\n",
       "      <th>STATE</th>\n",
       "      <th>CREATEDATE</th>\n",
       "      <th>LASTUSEDATE</th>\n",
       "      <th>TYPE</th>\n",
       "      <th>SS7RN</th>\n",
       "      <th>SS7DN</th>\n",
       "      <th>SMRI</th>\n",
       "      <th>MMSRI</th>\n",
       "      <th>VOIPRI</th>\n",
       "      <th>RIUPDATEDATE</th>\n",
       "      <th>HISTORYSTATE</th>\n",
       "    </tr>\n",
       "  </thead>\n",
       "  <tbody>\n",
       "    <tr>\n",
       "      <th>0</th>\n",
       "      <td>0923966669</td>\n",
       "      <td>17</td>\n",
       "      <td>14</td>\n",
       "      <td>2</td>\n",
       "      <td>20051014 15:44:50</td>\n",
       "      <td>20051014 15:44:50</td>\n",
       "      <td>M</td>\n",
       "      <td>1417.0</td>\n",
       "      <td>NaN</td>\n",
       "      <td>NaN</td>\n",
       "      <td>NaN</td>\n",
       "      <td>NaN</td>\n",
       "      <td>20120926 02:16:07</td>\n",
       "      <td>0</td>\n",
       "    </tr>\n",
       "    <tr>\n",
       "      <th>1</th>\n",
       "      <td>0912345789</td>\n",
       "      <td>39</td>\n",
       "      <td>19</td>\n",
       "      <td>2</td>\n",
       "      <td>20051014 16:49:53</td>\n",
       "      <td>20051014 16:49:53</td>\n",
       "      <td>M</td>\n",
       "      <td>1439.0</td>\n",
       "      <td>NaN</td>\n",
       "      <td>NaN</td>\n",
       "      <td>NaN</td>\n",
       "      <td>NaN</td>\n",
       "      <td>20050616 02:00:00</td>\n",
       "      <td>0</td>\n",
       "    </tr>\n",
       "    <tr>\n",
       "      <th>2</th>\n",
       "      <td>0988101717</td>\n",
       "      <td>12</td>\n",
       "      <td>39</td>\n",
       "      <td>2</td>\n",
       "      <td>20051014 17:33:05</td>\n",
       "      <td>20051014 17:33:05</td>\n",
       "      <td>M</td>\n",
       "      <td>1412.0</td>\n",
       "      <td>NaN</td>\n",
       "      <td>NaN</td>\n",
       "      <td>NaN</td>\n",
       "      <td>NaN</td>\n",
       "      <td>20130320 02:15:27</td>\n",
       "      <td>0</td>\n",
       "    </tr>\n",
       "    <tr>\n",
       "      <th>3</th>\n",
       "      <td>0929926130</td>\n",
       "      <td>19</td>\n",
       "      <td>13</td>\n",
       "      <td>2</td>\n",
       "      <td>20051014 18:03:52</td>\n",
       "      <td>20051014 18:03:52</td>\n",
       "      <td>M</td>\n",
       "      <td>1419.0</td>\n",
       "      <td>NaN</td>\n",
       "      <td>NaN</td>\n",
       "      <td>NaN</td>\n",
       "      <td>NaN</td>\n",
       "      <td>20090512 02:31:28</td>\n",
       "      <td>0</td>\n",
       "    </tr>\n",
       "    <tr>\n",
       "      <th>4</th>\n",
       "      <td>0956558410</td>\n",
       "      <td>39</td>\n",
       "      <td>13</td>\n",
       "      <td>2</td>\n",
       "      <td>20051014 18:54:15</td>\n",
       "      <td>20051014 18:54:15</td>\n",
       "      <td>M</td>\n",
       "      <td>1439.0</td>\n",
       "      <td>NaN</td>\n",
       "      <td>NaN</td>\n",
       "      <td>NaN</td>\n",
       "      <td>NaN</td>\n",
       "      <td>20080219 02:37:53</td>\n",
       "      <td>0</td>\n",
       "    </tr>\n",
       "  </tbody>\n",
       "</table>\n",
       "</div>"
      ],
      "text/plain": [
       "  PHONENUMBER  CURRENTOPID  NRHOPID  STATE         CREATEDATE  \\\n",
       "0  0923966669           17       14      2  20051014 15:44:50   \n",
       "1  0912345789           39       19      2  20051014 16:49:53   \n",
       "2  0988101717           12       39      2  20051014 17:33:05   \n",
       "3  0929926130           19       13      2  20051014 18:03:52   \n",
       "4  0956558410           39       13      2  20051014 18:54:15   \n",
       "\n",
       "         LASTUSEDATE TYPE   SS7RN SS7DN  SMRI  MMSRI  VOIPRI  \\\n",
       "0  20051014 15:44:50    M  1417.0   NaN   NaN    NaN     NaN   \n",
       "1  20051014 16:49:53    M  1439.0   NaN   NaN    NaN     NaN   \n",
       "2  20051014 17:33:05    M  1412.0   NaN   NaN    NaN     NaN   \n",
       "3  20051014 18:03:52    M  1419.0   NaN   NaN    NaN     NaN   \n",
       "4  20051014 18:54:15    M  1439.0   NaN   NaN    NaN     NaN   \n",
       "\n",
       "        RIUPDATEDATE  HISTORYSTATE  \n",
       "0  20120926 02:16:07             0  \n",
       "1  20050616 02:00:00             0  \n",
       "2  20130320 02:15:27             0  \n",
       "3  20090512 02:31:28             0  \n",
       "4  20080219 02:37:53             0  "
      ]
     },
     "execution_count": 4,
     "metadata": {},
     "output_type": "execute_result"
    }
   ],
   "source": [
    "df.head()"
   ]
  },
  {
   "cell_type": "code",
   "execution_count": 5,
   "metadata": {},
   "outputs": [
    {
     "data": {
      "text/plain": [
       "49298800"
      ]
     },
     "execution_count": 5,
     "metadata": {},
     "output_type": "execute_result"
    }
   ],
   "source": [
    "#df_fix = df.loc[(df['TYPE'] == 'L') & df['PHONENUMBER'].str.contains('02-')]\n",
    "df_mobile = df.loc[(df['TYPE'] == 'M')]\n",
    "mobile_phone = df_mobile[['PHONENUMBER', 'CURRENTOPID', 'NRHOPID', 'STATE' , 'TYPE' , 'SS7RN' , 'SS7DN' , 'RIUPDATEDATE']].sort_values('PHONENUMBER', ascending=False)\n",
    "len(mobile_phone)"
   ]
  },
  {
   "cell_type": "markdown",
   "metadata": {},
   "source": [
    "#各業者在上個月攜碼數量"
   ]
  },
  {
   "cell_type": "code",
   "execution_count": 6,
   "metadata": {
    "scrolled": false
   },
   "outputs": [
    {
     "data": {
      "text/plain": [
       "<matplotlib.axes._subplots.AxesSubplot at 0x364db1710>"
      ]
     },
     "execution_count": 6,
     "metadata": {},
     "output_type": "execute_result"
    },
    {
     "data": {
      "image/png": "[encoded data removed]",
      "text/plain": [
       "<matplotlib.figure.Figure at 0x364ddcf28>"
      ]
     },
     "metadata": {},
     "output_type": "display_data"
    }
   ],
   "source": [
    "month_df = df.loc[(df['TYPE'] == 'M') & df['RIUPDATEDATE'].str.contains('201710')]\n",
    "month_mobile_data = month_df[['PHONENUMBER', 'CURRENTOPID', 'NRHOPID', 'STATE' , 'TYPE' , 'SS7RN' , 'SS7DN' , 'RIUPDATEDATE']].sort_values('PHONENUMBER', ascending=False)\n",
    "len(month_mobile_data)\n",
    "#value_counts是將CURRENTOPID COUNT後的結果\n",
    "pre_month_df = pd.DataFrame(month_df['CURRENTOPID'].value_counts()).reset_index()\n",
    "pre_month_df.columns = ['CURRENTOPID' , 'COUNTS']\n",
    "sns.barplot(x='CURRENTOPID' , y='COUNTS' , data=pre_month_df)"
   ]
  },
  {
   "cell_type": "markdown",
   "metadata": {},
   "source": [
    "#10月份同門號攜碼超過1次"
   ]
  },
  {
   "cell_type": "code",
   "execution_count": 7,
   "metadata": {},
   "outputs": [
    {
     "name": "stdout",
     "output_type": "stream",
     "text": [
      "<class 'pandas.core.groupby.DataFrameGroupBy'>\n"
     ]
    },
    {
     "data": {
      "text/plain": [
       "48932"
      ]
     },
     "execution_count": 7,
     "metadata": {},
     "output_type": "execute_result"
    }
   ],
   "source": [
    "over_1np_phone_df = month_df.groupby(df['PHONENUMBER'])\n",
    "print type(over_1np_phone_df)\n",
    "over_1np_phone_count = over_1np_phone_df.size()\n",
    "len(over_1np_phone_count[over_1np_phone_count >1])"
   ]
  },
  {
   "cell_type": "markdown",
   "metadata": {},
   "source": [
    "#同集團2G原獲核配轉3G"
   ]
  },
  {
   "cell_type": "code",
   "execution_count": 8,
   "metadata": {},
   "outputs": [
    {
     "data": {
      "image/png": "[encoded data removed]",
      "text/plain": [
       "<matplotlib.figure.Figure at 0x364e6d080>"
      ]
     },
     "metadata": {},
     "output_type": "display_data"
    }
   ],
   "source": [
    "sameGroup2GTo3Gdf = month_df.loc[((df['NRHOPID'] == 19) & (df['CURRENTOPID'] == 39)) | ((df['NRHOPID'] == 11) & (df['CURRENTOPID'] == 12)) | (((df['NRHOPID'] == 10) | (df['NRHOPID'] == 16)) & (df['CURRENTOPID'] == 17)) ]\n",
    "sameGroup2GTo3GData = sameGroup2GTo3Gdf[['PHONENUMBER', 'CURRENTOPID', 'NRHOPID', 'STATE' , 'TYPE' , 'SS7RN' , 'SS7DN' , 'RIUPDATEDATE']].sort_values('PHONENUMBER', ascending=False)\n",
    "len(sameGroup2GTo3GData)\n",
    "sameGroup2GTo3GData_df = pd.DataFrame(sameGroup2GTo3GData['CURRENTOPID'].value_counts()).reset_index()\n",
    "sameGroup2GTo3GData_df.columns = ['CURRENTOPID' , 'COUNTS']\n",
    "ax = sns.barplot(x='CURRENTOPID' , y='COUNTS' , data=sameGroup2GTo3GData_df)\n",
    "for p in ax.patches:\n",
    "    ax.text(p.get_x() + p.get_width()/2., p.get_height()-0.01*(p.get_height()), '%d' % int(p.get_height()), \n",
    "            fontsize=12, color='red', ha='center', va='bottom')"
   ]
  },
  {
   "cell_type": "markdown",
   "metadata": {},
   "source": [
    "#同集團2G原獲核配轉4G"
   ]
  },
  {
   "cell_type": "code",
   "execution_count": 9,
   "metadata": {
    "scrolled": true
   },
   "outputs": [
    {
     "data": {
      "image/png": "[encoded data removed]",
      "text/plain": [
       "<matplotlib.figure.Figure at 0x364f9be48>"
      ]
     },
     "metadata": {},
     "output_type": "display_data"
    }
   ],
   "source": [
    "sameGroup2GTo4Gdf = month_df.loc[((df['NRHOPID'] == 19) & (df['CURRENTOPID'] == 33)) | ((df['NRHOPID'] == 11) & (df['CURRENTOPID'] == 31)) | (((df['NRHOPID'] == 10) | (df['NRHOPID'] == 16)) & (df['CURRENTOPID'] == 32)) ]\n",
    "sameGroup2GTo4GData = sameGroup2GTo4Gdf[['PHONENUMBER', 'CURRENTOPID', 'NRHOPID', 'STATE' , 'TYPE' , 'SS7RN' , 'SS7DN' , 'RIUPDATEDATE']].sort_values('PHONENUMBER', ascending=False)\n",
    "len(sameGroup2GTo4GData)\n",
    "sameGroup2GTo4GData_df = pd.DataFrame(sameGroup2GTo4GData['CURRENTOPID'].value_counts()).reset_index()\n",
    "sameGroup2GTo4GData_df.columns = ['CURRENTOPID' , 'COUNTS']\n",
    "ax = sns.barplot(x='CURRENTOPID' , y='COUNTS' , data=sameGroup2GTo4GData_df)\n",
    "for p in ax.patches:\n",
    "    ax.text(p.get_x() + p.get_width()/2., p.get_height()-0.01*(p.get_height()), '%d' % int(p.get_height()), \n",
    "            fontsize=12, color='red', ha='center', va='bottom')"
   ]
  },
  {
   "cell_type": "markdown",
   "metadata": {},
   "source": [
    "#同集團3G原獲核配轉4G"
   ]
  },
  {
   "cell_type": "code",
   "execution_count": 10,
   "metadata": {},
   "outputs": [
    {
     "data": {
      "image/png": "[encoded data removed]",
      "text/plain": [
       "<matplotlib.figure.Figure at 0x3652419e8>"
      ]
     },
     "metadata": {},
     "output_type": "display_data"
    }
   ],
   "source": [
    "sameGroup3GTo4Gdf = month_df.loc[((df['NRHOPID'] == 39) & (df['CURRENTOPID'] == 33)) | ((df['NRHOPID'] == 12) & (df['CURRENTOPID'] == 31)) | ((df['NRHOPID'] == 17) & (df['CURRENTOPID'] == 32)) |((df['NRHOPID'] == 15) & (df['CURRENTOPID'] == 36)) |((df['NRHOPID'] == 18) & (df['CURRENTOPID'] == 34))]\n",
    "sameGroup3GTo4GData = sameGroup3GTo4Gdf[['PHONENUMBER', 'CURRENTOPID', 'NRHOPID', 'STATE' , 'TYPE' , 'SS7RN' , 'SS7DN' , 'RIUPDATEDATE']].sort_values('PHONENUMBER', ascending=False)\n",
    "len(sameGroup3GTo4GData)\n",
    "sameGroup3GTo4GData_df = pd.DataFrame(sameGroup3GTo4GData['CURRENTOPID'].value_counts()).reset_index()\n",
    "sameGroup3GTo4GData_df.columns = ['CURRENTOPID' , 'COUNTS']\n",
    "ax = sns.barplot(x='CURRENTOPID' , y='COUNTS' , data=sameGroup3GTo4GData_df)\n",
    "for p in ax.patches:\n",
    "    ax.text(p.get_x() + p.get_width()/2., p.get_height()-0.01*(p.get_height()), '%d' % int(p.get_height()), \n",
    "            fontsize=12, color='red', ha='center', va='bottom')"
   ]
  },
  {
   "cell_type": "code",
   "execution_count": 11,
   "metadata": {},
   "outputs": [],
   "source": [
    "def get_stats(group):\n",
    "    return {'min': group.min(), 'max': group.max(), 'count': group.count(), 'mean': group.mean()}"
   ]
  },
  {
   "cell_type": "markdown",
   "metadata": {},
   "source": [
    "#10月份攜碼超過1筆的門號數量"
   ]
  },
  {
   "cell_type": "code",
   "execution_count": 21,
   "metadata": {},
   "outputs": [
    {
     "data": {
      "text/plain": [
       "75094"
      ]
     },
     "execution_count": 21,
     "metadata": {},
     "output_type": "execute_result"
    }
   ],
   "source": [
    "month_01_df = df.loc[(df['TYPE'] == 'M') & df['RIUPDATEDATE'].str.contains('201701')]\n",
    "over_1np_01_phone_df = month_01_df.groupby(df['PHONENUMBER'])\n",
    "over_1np_01_phone_count = over_1np_01_phone_df.size()\n",
    "len(over_1np_01_phone_count[over_1np_01_phone_count >1])"
   ]
  },
  {
   "cell_type": "markdown",
   "metadata": {},
   "source": [
    "#今年每個月攜碼超過1筆的門號數量"
   ]
  },
  {
   "cell_type": "code",
   "execution_count": 14,
   "metadata": {},
   "outputs": [
    {
     "name": "stdout",
     "output_type": "stream",
     "text": [
      "[75094, 92680, 74861, 54185, 46504, 46044, 49021, 51713, 47069, 48932, 18547, 0]\n"
     ]
    }
   ],
   "source": [
    "countlist = []\n",
    "def getYearDataCount(df,year):\n",
    "    for i in range(1,13):\n",
    "        month_df = df.loc[(df['TYPE'] == 'M') & (df['RIUPDATEDATE'].str.contains(str(year) + ('0'+ str(i) if i < 10 else str(i))))]\n",
    "        phone_count = month_df.groupby(df['PHONENUMBER']).size()\n",
    "        countlist.append(len(phone_count[phone_count>1]))\n",
    "\n",
    "getYearDataCount(df,2017)\n",
    "print countlist"
   ]
  },
  {
   "cell_type": "code",
   "execution_count": 15,
   "metadata": {},
   "outputs": [
    {
     "data": {
      "text/plain": [
       "Text(0.5,0.98,u'2017\\u5e74\\u6bcf\\u500b\\u6708\\u540c\\u9580\\u865f\\u651c\\u78bc\\u5169\\u6b21\\u4ee5\\u4e0a\\u7684\\u6578\\u91cf')"
      ]
     },
     "execution_count": 15,
     "metadata": {},
     "output_type": "execute_result"
    },
    {
     "data": {
      "image/png": "[encoded data removed]",
      "text/plain": [
       "<matplotlib.figure.Figure at 0x364ddc940>"
      ]
     },
     "metadata": {},
     "output_type": "display_data"
    }
   ],
   "source": [
    "data_df = pd.DataFrame(\n",
    "    {\"month\": month_order,\n",
    "     \"count\": countlist\n",
    "    }\n",
    ")\n",
    "sns.factorplot(data = data_df, x=\"month\", y=\"count\", ci = None , size=4 , aspect=3).fig.suptitle(u'2017年每個月同門號攜碼兩次以上的數量',family='Microsoft YaHei', size=16)"
   ]
  },
  {
   "cell_type": "code",
   "execution_count": null,
   "metadata": {},
   "outputs": [],
   "source": [
    "for i in range(1,13):\n",
    "    print str(2017) + ('0'+ str(i) if i < 10 else str(i))"
   ]
  },
  {
   "cell_type": "markdown",
   "metadata": {},
   "source": [
    "#今年每個月攜碼超過1筆的門號數量"
   ]
  },
  {
   "cell_type": "code",
   "execution_count": 16,
   "metadata": {
    "scrolled": true
   },
   "outputs": [
    {
     "name": "stdout",
     "output_type": "stream",
     "text": [
      "[(1, 75094), (2, 92680), (3, 74861), (4, 54185), (5, 46504), (6, 46044), (7, 49021), (8, 51713), (9, 47069), (10, 48932), (11, 18547), (12, 0)]\n"
     ]
    }
   ],
   "source": [
    "# encoding=UTF-8\n",
    "countTuplelist = []\n",
    "def getYearDataCountTuple(df,year):\n",
    "    for i in range(1,13):\n",
    "        month_df = df.loc[(df['TYPE'] == 'M') & (df['RIUPDATEDATE'].str.contains(str(year) + ('0'+ str(i) if i < 10 else str(i))))]\n",
    "        phone_count = month_df.groupby(df['PHONENUMBER']).size()\n",
    "        countTuplelist.append((i,len(phone_count[phone_count>1])))\n",
    "\n",
    "getYearDataCountTuple(df,2017)\n",
    "print countTuplelist"
   ]
  },
  {
   "cell_type": "code",
   "execution_count": 17,
   "metadata": {},
   "outputs": [
    {
     "data": {
      "image/png": "[encoded data removed]",
      "text/plain": [
       "<matplotlib.figure.Figure at 0x3654b33c8>"
      ]
     },
     "metadata": {},
     "output_type": "display_data"
    }
   ],
   "source": [
    "def plotData(plt, data):\n",
    "  x = [p[0] for p in data]\n",
    "  y = [p[1] for p in data]\n",
    "  plt.plot(x, y, '--o')\n",
    "\n",
    "plt.title(u\"2017年每個月同門號攜碼兩次以上的數量\",family='Microsoft YaHei', size=16)\n",
    "\n",
    "plotData(plt, countTuplelist)\n",
    "plt.show()"
   ]
  },
  {
   "cell_type": "code",
   "execution_count": 98,
   "metadata": {
    "scrolled": true
   },
   "outputs": [
    {
     "name": "stdout",
     "output_type": "stream",
     "text": [
      "False    48644057\n",
      "True       700172\n",
      "dtype: int64\n",
      "False    48671413\n",
      "True       672816\n",
      "dtype: int64\n",
      "False    48669939\n",
      "True       674290\n",
      "dtype: int64\n",
      "False    48773010\n",
      "True       571219\n",
      "dtype: int64\n",
      "False    48696902\n",
      "True       647327\n",
      "dtype: int64\n",
      "False    48598114\n",
      "True       746115\n",
      "dtype: int64\n",
      "False    48681963\n",
      "True       662266\n",
      "dtype: int64\n",
      "False    48726985\n",
      "True       617244\n",
      "dtype: int64\n",
      "False    48755828\n",
      "True       588401\n",
      "dtype: int64\n",
      "False    48762060\n",
      "True       582169\n",
      "dtype: int64\n",
      "False    48945211\n",
      "True       399018\n",
      "dtype: int64\n",
      "False    49344229\n",
      "dtype: int64\n",
      "[700172, 672816, 674290, 571219, 647327, 746115, 662266, 617244, 588401, 582169, 399018, 0]\n"
     ]
    }
   ],
   "source": [
    "eachMonthList = []\n",
    "def getYearNpDataCount(df,year):\n",
    "    for i in range(1,13):\n",
    "        each_month_np_count = df.groupby((df['TYPE'] == 'M') & (df['RIUPDATEDATE'].str.contains(str(year) + ('0'+ str(i) if i < 10 else str(i))))).size()\n",
    "        print each_month_np_count\n",
    "        try:\n",
    "            eachMonthList.append(each_month_np_count[1])\n",
    "        except:\n",
    "            eachMonthList.append(0)\n",
    "\n",
    "getYearNpDataCount(df,2017)\n",
    "print eachMonthList"
   ]
  },
  {
   "cell_type": "code",
   "execution_count": 130,
   "metadata": {},
   "outputs": [
    {
     "data": {
      "text/plain": [
       "Text(0.5,0.98,u'2017\\u5e74\\u6bcf\\u500b\\u6708\\u884c\\u7db2\\u651c\\u78bc\\u6578\\u91cf')"
      ]
     },
     "execution_count": 130,
     "metadata": {},
     "output_type": "execute_result"
    },
    {
     "data": {
      "image/png": "[encoded data removed]",
      "text/plain": [
       "<matplotlib.figure.Figure at 0x316162518>"
      ]
     },
     "metadata": {},
     "output_type": "display_data"
    }
   ],
   "source": [
    "each_month_count_df = pd.DataFrame(\n",
    "    {\n",
    "     \"month\": month_order,\n",
    "#      \"month\": range(1,13),\n",
    "     \"count\": eachMonthList\n",
    "    }\n",
    ")\n",
    "\n",
    "sns.factorplot(data = each_month_count_df, x=\"month\", y=\"count\", ci = None , size=4 , aspect=3).fig.suptitle(u'2017年每個月行網攜碼數量',family='Microsoft YaHei', size=16)"
   ]
  },
  {
   "cell_type": "code",
   "execution_count": 23,
   "metadata": {},
   "outputs": [
    {
     "data": {
      "text/plain": [
       "CURRENTOPID\n",
       "10      7803\n",
       "11      9027\n",
       "12     49108\n",
       "13      1701\n",
       "14       698\n",
       "15     25713\n",
       "16     14284\n",
       "17     52923\n",
       "18      2514\n",
       "19     12933\n",
       "31    110660\n",
       "32    128697\n",
       "33    157670\n",
       "34     47935\n",
       "36     30719\n",
       "39     47787\n",
       "dtype: int64"
      ]
     },
     "execution_count": 23,
     "metadata": {},
     "output_type": "execute_result"
    }
   ],
   "source": [
    "each_carrier_01_df = month_01_df.groupby(df['CURRENTOPID'])\n",
    "each_carrier_count = each_carrier_01_df.size()\n",
    "each_carrier_count"
   ]
  },
  {
   "cell_type": "code",
   "execution_count": 62,
   "metadata": {},
   "outputs": [],
   "source": [
    "year_2017_df = df.loc[(df['TYPE'] == 'M') & df['RIUPDATEDATE'].str.contains('2017')]"
   ]
  },
  {
   "cell_type": "code",
   "execution_count": 63,
   "metadata": {},
   "outputs": [
    {
     "data": {
      "text/html": [
       "<div>\n",
       "<style scoped>\n",
       "    .dataframe tbody tr th:only-of-type {\n",
       "        vertical-align: middle;\n",
       "    }\n",
       "\n",
       "    .dataframe tbody tr th {\n",
       "        vertical-align: top;\n",
       "    }\n",
       "\n",
       "    .dataframe thead th {\n",
       "        text-align: right;\n",
       "    }\n",
       "</style>\n",
       "<table border=\"1\" class=\"dataframe\">\n",
       "  <thead>\n",
       "    <tr style=\"text-align: right;\">\n",
       "      <th></th>\n",
       "      <th>PHONENUMBER</th>\n",
       "      <th>CURRENTOPID</th>\n",
       "      <th>NRHOPID</th>\n",
       "      <th>STATE</th>\n",
       "      <th>CREATEDATE</th>\n",
       "      <th>LASTUSEDATE</th>\n",
       "      <th>TYPE</th>\n",
       "      <th>SS7RN</th>\n",
       "      <th>SS7DN</th>\n",
       "      <th>SMRI</th>\n",
       "      <th>MMSRI</th>\n",
       "      <th>VOIPRI</th>\n",
       "      <th>RIUPDATEDATE</th>\n",
       "      <th>HISTORYSTATE</th>\n",
       "    </tr>\n",
       "  </thead>\n",
       "  <tbody>\n",
       "    <tr>\n",
       "      <th>42467270</th>\n",
       "      <td>0919550760</td>\n",
       "      <td>39</td>\n",
       "      <td>19</td>\n",
       "      <td>2</td>\n",
       "      <td>20100122 15:57:50</td>\n",
       "      <td>20100122 15:57:50</td>\n",
       "      <td>M</td>\n",
       "      <td>1439.0</td>\n",
       "      <td>NaN</td>\n",
       "      <td>NaN</td>\n",
       "      <td>NaN</td>\n",
       "      <td>NaN</td>\n",
       "      <td>20170101 02:00:02</td>\n",
       "      <td>0</td>\n",
       "    </tr>\n",
       "    <tr>\n",
       "      <th>42467271</th>\n",
       "      <td>0927027880</td>\n",
       "      <td>39</td>\n",
       "      <td>10</td>\n",
       "      <td>2</td>\n",
       "      <td>20111128 19:24:37</td>\n",
       "      <td>20111128 19:24:37</td>\n",
       "      <td>M</td>\n",
       "      <td>1439.0</td>\n",
       "      <td>NaN</td>\n",
       "      <td>NaN</td>\n",
       "      <td>NaN</td>\n",
       "      <td>NaN</td>\n",
       "      <td>20170101 02:00:02</td>\n",
       "      <td>0</td>\n",
       "    </tr>\n",
       "    <tr>\n",
       "      <th>42467272</th>\n",
       "      <td>0936268836</td>\n",
       "      <td>39</td>\n",
       "      <td>16</td>\n",
       "      <td>2</td>\n",
       "      <td>20060123 22:42:49</td>\n",
       "      <td>20060123 22:42:49</td>\n",
       "      <td>M</td>\n",
       "      <td>1439.0</td>\n",
       "      <td>NaN</td>\n",
       "      <td>NaN</td>\n",
       "      <td>NaN</td>\n",
       "      <td>NaN</td>\n",
       "      <td>20170101 02:00:02</td>\n",
       "      <td>0</td>\n",
       "    </tr>\n",
       "    <tr>\n",
       "      <th>42467273</th>\n",
       "      <td>0918915628</td>\n",
       "      <td>33</td>\n",
       "      <td>11</td>\n",
       "      <td>2</td>\n",
       "      <td>20110425 21:38:39</td>\n",
       "      <td>20110425 21:38:39</td>\n",
       "      <td>M</td>\n",
       "      <td>1433.0</td>\n",
       "      <td>NaN</td>\n",
       "      <td>NaN</td>\n",
       "      <td>NaN</td>\n",
       "      <td>NaN</td>\n",
       "      <td>20170101 02:00:02</td>\n",
       "      <td>0</td>\n",
       "    </tr>\n",
       "    <tr>\n",
       "      <th>42467274</th>\n",
       "      <td>0919083288</td>\n",
       "      <td>39</td>\n",
       "      <td>19</td>\n",
       "      <td>2</td>\n",
       "      <td>20130721 19:28:20</td>\n",
       "      <td>20130721 19:28:20</td>\n",
       "      <td>M</td>\n",
       "      <td>1439.0</td>\n",
       "      <td>NaN</td>\n",
       "      <td>NaN</td>\n",
       "      <td>NaN</td>\n",
       "      <td>NaN</td>\n",
       "      <td>20170101 02:00:02</td>\n",
       "      <td>0</td>\n",
       "    </tr>\n",
       "  </tbody>\n",
       "</table>\n",
       "</div>"
      ],
      "text/plain": [
       "         PHONENUMBER  CURRENTOPID  NRHOPID  STATE         CREATEDATE  \\\n",
       "42467270  0919550760           39       19      2  20100122 15:57:50   \n",
       "42467271  0927027880           39       10      2  20111128 19:24:37   \n",
       "42467272  0936268836           39       16      2  20060123 22:42:49   \n",
       "42467273  0918915628           33       11      2  20110425 21:38:39   \n",
       "42467274  0919083288           39       19      2  20130721 19:28:20   \n",
       "\n",
       "                LASTUSEDATE TYPE   SS7RN SS7DN  SMRI  MMSRI  VOIPRI  \\\n",
       "42467270  20100122 15:57:50    M  1439.0   NaN   NaN    NaN     NaN   \n",
       "42467271  20111128 19:24:37    M  1439.0   NaN   NaN    NaN     NaN   \n",
       "42467272  20060123 22:42:49    M  1439.0   NaN   NaN    NaN     NaN   \n",
       "42467273  20110425 21:38:39    M  1433.0   NaN   NaN    NaN     NaN   \n",
       "42467274  20130721 19:28:20    M  1439.0   NaN   NaN    NaN     NaN   \n",
       "\n",
       "               RIUPDATEDATE  HISTORYSTATE  \n",
       "42467270  20170101 02:00:02             0  \n",
       "42467271  20170101 02:00:02             0  \n",
       "42467272  20170101 02:00:02             0  \n",
       "42467273  20170101 02:00:02             0  \n",
       "42467274  20170101 02:00:02             0  "
      ]
     },
     "execution_count": 63,
     "metadata": {},
     "output_type": "execute_result"
    }
   ],
   "source": [
    "year_2017_df.head()"
   ]
  },
  {
   "cell_type": "code",
   "execution_count": 72,
   "metadata": {
    "scrolled": true
   },
   "outputs": [
    {
     "data": {
      "text/html": [
       "<div>\n",
       "<style scoped>\n",
       "    .dataframe tbody tr th:only-of-type {\n",
       "        vertical-align: middle;\n",
       "    }\n",
       "\n",
       "    .dataframe tbody tr th {\n",
       "        vertical-align: top;\n",
       "    }\n",
       "\n",
       "    .dataframe thead th {\n",
       "        text-align: right;\n",
       "    }\n",
       "</style>\n",
       "<table border=\"1\" class=\"dataframe\">\n",
       "  <thead>\n",
       "    <tr style=\"text-align: right;\">\n",
       "      <th></th>\n",
       "      <th>CURRENTOPID</th>\n",
       "      <th>RIUPDATEDATE</th>\n",
       "    </tr>\n",
       "  </thead>\n",
       "  <tbody>\n",
       "    <tr>\n",
       "      <th>42467270</th>\n",
       "      <td>39</td>\n",
       "      <td>201701</td>\n",
       "    </tr>\n",
       "    <tr>\n",
       "      <th>42467271</th>\n",
       "      <td>39</td>\n",
       "      <td>201701</td>\n",
       "    </tr>\n",
       "    <tr>\n",
       "      <th>42467272</th>\n",
       "      <td>39</td>\n",
       "      <td>201701</td>\n",
       "    </tr>\n",
       "    <tr>\n",
       "      <th>42467273</th>\n",
       "      <td>33</td>\n",
       "      <td>201701</td>\n",
       "    </tr>\n",
       "    <tr>\n",
       "      <th>42467274</th>\n",
       "      <td>39</td>\n",
       "      <td>201701</td>\n",
       "    </tr>\n",
       "    <tr>\n",
       "      <th>42467275</th>\n",
       "      <td>39</td>\n",
       "      <td>201701</td>\n",
       "    </tr>\n",
       "    <tr>\n",
       "      <th>42467276</th>\n",
       "      <td>33</td>\n",
       "      <td>201701</td>\n",
       "    </tr>\n",
       "    <tr>\n",
       "      <th>42467277</th>\n",
       "      <td>39</td>\n",
       "      <td>201701</td>\n",
       "    </tr>\n",
       "    <tr>\n",
       "      <th>42467278</th>\n",
       "      <td>33</td>\n",
       "      <td>201701</td>\n",
       "    </tr>\n",
       "    <tr>\n",
       "      <th>42467279</th>\n",
       "      <td>33</td>\n",
       "      <td>201701</td>\n",
       "    </tr>\n",
       "    <tr>\n",
       "      <th>42467280</th>\n",
       "      <td>33</td>\n",
       "      <td>201701</td>\n",
       "    </tr>\n",
       "    <tr>\n",
       "      <th>42467281</th>\n",
       "      <td>33</td>\n",
       "      <td>201701</td>\n",
       "    </tr>\n",
       "    <tr>\n",
       "      <th>42467282</th>\n",
       "      <td>39</td>\n",
       "      <td>201701</td>\n",
       "    </tr>\n",
       "    <tr>\n",
       "      <th>42467283</th>\n",
       "      <td>33</td>\n",
       "      <td>201701</td>\n",
       "    </tr>\n",
       "    <tr>\n",
       "      <th>42467284</th>\n",
       "      <td>39</td>\n",
       "      <td>201701</td>\n",
       "    </tr>\n",
       "    <tr>\n",
       "      <th>42467285</th>\n",
       "      <td>33</td>\n",
       "      <td>201701</td>\n",
       "    </tr>\n",
       "    <tr>\n",
       "      <th>42467286</th>\n",
       "      <td>33</td>\n",
       "      <td>201701</td>\n",
       "    </tr>\n",
       "    <tr>\n",
       "      <th>42467287</th>\n",
       "      <td>33</td>\n",
       "      <td>201701</td>\n",
       "    </tr>\n",
       "    <tr>\n",
       "      <th>42467288</th>\n",
       "      <td>33</td>\n",
       "      <td>201701</td>\n",
       "    </tr>\n",
       "    <tr>\n",
       "      <th>42467289</th>\n",
       "      <td>33</td>\n",
       "      <td>201701</td>\n",
       "    </tr>\n",
       "    <tr>\n",
       "      <th>42467290</th>\n",
       "      <td>39</td>\n",
       "      <td>201701</td>\n",
       "    </tr>\n",
       "    <tr>\n",
       "      <th>42467291</th>\n",
       "      <td>33</td>\n",
       "      <td>201701</td>\n",
       "    </tr>\n",
       "    <tr>\n",
       "      <th>42467292</th>\n",
       "      <td>33</td>\n",
       "      <td>201701</td>\n",
       "    </tr>\n",
       "    <tr>\n",
       "      <th>42467293</th>\n",
       "      <td>39</td>\n",
       "      <td>201701</td>\n",
       "    </tr>\n",
       "    <tr>\n",
       "      <th>42467294</th>\n",
       "      <td>33</td>\n",
       "      <td>201701</td>\n",
       "    </tr>\n",
       "    <tr>\n",
       "      <th>42467295</th>\n",
       "      <td>33</td>\n",
       "      <td>201701</td>\n",
       "    </tr>\n",
       "    <tr>\n",
       "      <th>42467296</th>\n",
       "      <td>39</td>\n",
       "      <td>201701</td>\n",
       "    </tr>\n",
       "    <tr>\n",
       "      <th>42467297</th>\n",
       "      <td>39</td>\n",
       "      <td>201701</td>\n",
       "    </tr>\n",
       "    <tr>\n",
       "      <th>42467298</th>\n",
       "      <td>33</td>\n",
       "      <td>201701</td>\n",
       "    </tr>\n",
       "    <tr>\n",
       "      <th>42467299</th>\n",
       "      <td>33</td>\n",
       "      <td>201701</td>\n",
       "    </tr>\n",
       "    <tr>\n",
       "      <th>...</th>\n",
       "      <td>...</td>\n",
       "      <td>...</td>\n",
       "    </tr>\n",
       "    <tr>\n",
       "      <th>49344199</th>\n",
       "      <td>17</td>\n",
       "      <td>201711</td>\n",
       "    </tr>\n",
       "    <tr>\n",
       "      <th>49344200</th>\n",
       "      <td>10</td>\n",
       "      <td>201711</td>\n",
       "    </tr>\n",
       "    <tr>\n",
       "      <th>49344201</th>\n",
       "      <td>10</td>\n",
       "      <td>201711</td>\n",
       "    </tr>\n",
       "    <tr>\n",
       "      <th>49344202</th>\n",
       "      <td>17</td>\n",
       "      <td>201711</td>\n",
       "    </tr>\n",
       "    <tr>\n",
       "      <th>49344203</th>\n",
       "      <td>17</td>\n",
       "      <td>201711</td>\n",
       "    </tr>\n",
       "    <tr>\n",
       "      <th>49344204</th>\n",
       "      <td>17</td>\n",
       "      <td>201711</td>\n",
       "    </tr>\n",
       "    <tr>\n",
       "      <th>49344205</th>\n",
       "      <td>17</td>\n",
       "      <td>201711</td>\n",
       "    </tr>\n",
       "    <tr>\n",
       "      <th>49344206</th>\n",
       "      <td>17</td>\n",
       "      <td>201711</td>\n",
       "    </tr>\n",
       "    <tr>\n",
       "      <th>49344207</th>\n",
       "      <td>17</td>\n",
       "      <td>201711</td>\n",
       "    </tr>\n",
       "    <tr>\n",
       "      <th>49344208</th>\n",
       "      <td>16</td>\n",
       "      <td>201711</td>\n",
       "    </tr>\n",
       "    <tr>\n",
       "      <th>49344209</th>\n",
       "      <td>32</td>\n",
       "      <td>201711</td>\n",
       "    </tr>\n",
       "    <tr>\n",
       "      <th>49344210</th>\n",
       "      <td>10</td>\n",
       "      <td>201711</td>\n",
       "    </tr>\n",
       "    <tr>\n",
       "      <th>49344211</th>\n",
       "      <td>39</td>\n",
       "      <td>201711</td>\n",
       "    </tr>\n",
       "    <tr>\n",
       "      <th>49344212</th>\n",
       "      <td>15</td>\n",
       "      <td>201711</td>\n",
       "    </tr>\n",
       "    <tr>\n",
       "      <th>49344213</th>\n",
       "      <td>16</td>\n",
       "      <td>201711</td>\n",
       "    </tr>\n",
       "    <tr>\n",
       "      <th>49344214</th>\n",
       "      <td>19</td>\n",
       "      <td>201711</td>\n",
       "    </tr>\n",
       "    <tr>\n",
       "      <th>49344215</th>\n",
       "      <td>17</td>\n",
       "      <td>201711</td>\n",
       "    </tr>\n",
       "    <tr>\n",
       "      <th>49344216</th>\n",
       "      <td>18</td>\n",
       "      <td>201711</td>\n",
       "    </tr>\n",
       "    <tr>\n",
       "      <th>49344217</th>\n",
       "      <td>39</td>\n",
       "      <td>201711</td>\n",
       "    </tr>\n",
       "    <tr>\n",
       "      <th>49344218</th>\n",
       "      <td>19</td>\n",
       "      <td>201711</td>\n",
       "    </tr>\n",
       "    <tr>\n",
       "      <th>49344219</th>\n",
       "      <td>39</td>\n",
       "      <td>201711</td>\n",
       "    </tr>\n",
       "    <tr>\n",
       "      <th>49344220</th>\n",
       "      <td>10</td>\n",
       "      <td>201711</td>\n",
       "    </tr>\n",
       "    <tr>\n",
       "      <th>49344221</th>\n",
       "      <td>19</td>\n",
       "      <td>201711</td>\n",
       "    </tr>\n",
       "    <tr>\n",
       "      <th>49344222</th>\n",
       "      <td>19</td>\n",
       "      <td>201711</td>\n",
       "    </tr>\n",
       "    <tr>\n",
       "      <th>49344223</th>\n",
       "      <td>36</td>\n",
       "      <td>201711</td>\n",
       "    </tr>\n",
       "    <tr>\n",
       "      <th>49344224</th>\n",
       "      <td>39</td>\n",
       "      <td>201711</td>\n",
       "    </tr>\n",
       "    <tr>\n",
       "      <th>49344225</th>\n",
       "      <td>19</td>\n",
       "      <td>201711</td>\n",
       "    </tr>\n",
       "    <tr>\n",
       "      <th>49344226</th>\n",
       "      <td>18</td>\n",
       "      <td>201711</td>\n",
       "    </tr>\n",
       "    <tr>\n",
       "      <th>49344227</th>\n",
       "      <td>16</td>\n",
       "      <td>201711</td>\n",
       "    </tr>\n",
       "    <tr>\n",
       "      <th>49344228</th>\n",
       "      <td>10</td>\n",
       "      <td>201711</td>\n",
       "    </tr>\n",
       "  </tbody>\n",
       "</table>\n",
       "<p>6861037 rows × 2 columns</p>\n",
       "</div>"
      ],
      "text/plain": [
       "          CURRENTOPID RIUPDATEDATE\n",
       "42467270           39       201701\n",
       "42467271           39       201701\n",
       "42467272           39       201701\n",
       "42467273           33       201701\n",
       "42467274           39       201701\n",
       "42467275           39       201701\n",
       "42467276           33       201701\n",
       "42467277           39       201701\n",
       "42467278           33       201701\n",
       "42467279           33       201701\n",
       "42467280           33       201701\n",
       "42467281           33       201701\n",
       "42467282           39       201701\n",
       "42467283           33       201701\n",
       "42467284           39       201701\n",
       "42467285           33       201701\n",
       "42467286           33       201701\n",
       "42467287           33       201701\n",
       "42467288           33       201701\n",
       "42467289           33       201701\n",
       "42467290           39       201701\n",
       "42467291           33       201701\n",
       "42467292           33       201701\n",
       "42467293           39       201701\n",
       "42467294           33       201701\n",
       "42467295           33       201701\n",
       "42467296           39       201701\n",
       "42467297           39       201701\n",
       "42467298           33       201701\n",
       "42467299           33       201701\n",
       "...               ...          ...\n",
       "49344199           17       201711\n",
       "49344200           10       201711\n",
       "49344201           10       201711\n",
       "49344202           17       201711\n",
       "49344203           17       201711\n",
       "49344204           17       201711\n",
       "49344205           17       201711\n",
       "49344206           17       201711\n",
       "49344207           17       201711\n",
       "49344208           16       201711\n",
       "49344209           32       201711\n",
       "49344210           10       201711\n",
       "49344211           39       201711\n",
       "49344212           15       201711\n",
       "49344213           16       201711\n",
       "49344214           19       201711\n",
       "49344215           17       201711\n",
       "49344216           18       201711\n",
       "49344217           39       201711\n",
       "49344218           19       201711\n",
       "49344219           39       201711\n",
       "49344220           10       201711\n",
       "49344221           19       201711\n",
       "49344222           19       201711\n",
       "49344223           36       201711\n",
       "49344224           39       201711\n",
       "49344225           19       201711\n",
       "49344226           18       201711\n",
       "49344227           16       201711\n",
       "49344228           10       201711\n",
       "\n",
       "[6861037 rows x 2 columns]"
      ]
     },
     "execution_count": 72,
     "metadata": {},
     "output_type": "execute_result"
    }
   ],
   "source": [
    "year_2017_df = year_2017_df[['CURRENTOPID' , 'RIUPDATEDATE']]\n",
    "year_data_2017_df = year_2017_df\n",
    "year_data_2017_df['RIUPDATEDATE'] = year_data_2017_df['RIUPDATEDATE'].apply(lambda x: x[:6])\n",
    "year_data_2017_df"
   ]
  },
  {
   "cell_type": "code",
   "execution_count": 180,
   "metadata": {},
   "outputs": [
    {
     "name": "stdout",
     "output_type": "stream",
     "text": [
      "<itertools.izip object at 0x000000036A538248>\n"
     ]
    },
    {
     "data": {
      "image/png": "[encoded data removed]",
      "text/plain": [
       "<matplotlib.figure.Figure at 0x3a7b56400>"
      ]
     },
     "metadata": {},
     "output_type": "display_data"
    }
   ],
   "source": [
    "color_sequence = ['#1f77b4', '#aec7e8', '#ff7f0e', '#ffbb78', '#2ca02c',\n",
    "                  '#98df8a', '#d62728', '#ff9896', '#9467bd', '#c5b0d5',\n",
    "                  '#8c564b', '#c49c94', '#e377c2', '#f7b6d2', '#7f7f7f',\n",
    "                  '#c7c7c7', '#bcbd22', '#dbdb8d', '#17becf', '#9edae5']\n",
    "majers = ['10']\n",
    "eachCarrierMonthList = []\n",
    "def each_month_carrier_np_count(year):\n",
    "    count = 1\n",
    "    fig, ax = plt.subplots(1, 1, figsize=(5, 7))\n",
    "    ax.set_xlim(1, 12)\n",
    "    carrier_month_np_count = []\n",
    "    each_month_carrier_np_count = year_data_2017_df.groupby(['CURRENTOPID' , 'RIUPDATEDATE']).size()\n",
    "    print each_month_carrier_np_count.items()\n",
    "    for m,v in each_month_carrier_np_count.items():\n",
    "        carrier_month_np_count.append(v)\n",
    "#         print count%11 == 0 , count , carrier_month_np_count\n",
    "        if count%11 == 0:\n",
    "            data = carrier_month_np_count\n",
    "            line = plt.plot(range(1,12),\n",
    "                            data,\n",
    "                            lw=2.5,\n",
    "                            color=color_sequence[count/11])\n",
    "            \n",
    "            plt.text(11, v, m[0], fontsize=18, color=color_sequence[count/11])\n",
    "            carrier_month_np_count = []\n",
    "        count += 1\n",
    "    plt.show()\n",
    "#     try:\n",
    "#         eachCarrierMonthList.append(each_month_carrier_np_count[1])\n",
    "#     except:\n",
    "#         eachCarrierMonthList.append(0)\n",
    "\n",
    "each_month_carrier_np_count(2017)"
   ]
  },
  {
   "cell_type": "code",
   "execution_count": 182,
   "metadata": {},
   "outputs": [
    {
     "data": {
      "image/png": "[encoded data removed]",
      "text/plain": [
       "<matplotlib.figure.Figure at 0x36d4b3c18>"
      ]
     },
     "metadata": {},
     "output_type": "display_data"
    }
   ],
   "source": [
    "from pylab import *\n",
    "labels = []\n",
    "sizes = []\n",
    "for label in pre_month_df['CURRENTOPID']:\n",
    "    labels.append(label)\n",
    "for size in pre_month_df['COUNTS']:\n",
    "    sizes.append(size)\n",
    "\n",
    "figure(1, figsize=(5,5))\n",
    "ax1 = plt.subplot(aspect=1)\n",
    "# fig1, ax1 = plt.subplots()\n",
    "ax1.pie(sizes, labels=labels, autopct='%1.1f%%',\n",
    "        shadow=False, startangle=90)\n",
    "ax1.axis('equal')  # Equal aspect ratio ensures that pie is drawn as a circle.\n",
    "\n",
    "savefig('sample.pdf')\n",
    "plt.show()"
   ]
  },
  {
   "cell_type": "code",
   "execution_count": 149,
   "metadata": {},
   "outputs": [
    {
     "data": {
      "text/html": [
       "<div>\n",
       "<style scoped>\n",
       "    .dataframe tbody tr th:only-of-type {\n",
       "        vertical-align: middle;\n",
       "    }\n",
       "\n",
       "    .dataframe tbody tr th {\n",
       "        vertical-align: top;\n",
       "    }\n",
       "\n",
       "    .dataframe thead th {\n",
       "        text-align: right;\n",
       "    }\n",
       "</style>\n",
       "<table border=\"1\" class=\"dataframe\">\n",
       "  <thead>\n",
       "    <tr style=\"text-align: right;\">\n",
       "      <th></th>\n",
       "      <th>CURRENTOPID</th>\n",
       "      <th>COUNTS</th>\n",
       "    </tr>\n",
       "  </thead>\n",
       "  <tbody>\n",
       "    <tr>\n",
       "      <th>0</th>\n",
       "      <td>32</td>\n",
       "      <td>143732</td>\n",
       "    </tr>\n",
       "    <tr>\n",
       "      <th>1</th>\n",
       "      <td>31</td>\n",
       "      <td>126388</td>\n",
       "    </tr>\n",
       "    <tr>\n",
       "      <th>2</th>\n",
       "      <td>33</td>\n",
       "      <td>96086</td>\n",
       "    </tr>\n",
       "    <tr>\n",
       "      <th>3</th>\n",
       "      <td>17</td>\n",
       "      <td>45909</td>\n",
       "    </tr>\n",
       "    <tr>\n",
       "      <th>4</th>\n",
       "      <td>34</td>\n",
       "      <td>36920</td>\n",
       "    </tr>\n",
       "    <tr>\n",
       "      <th>5</th>\n",
       "      <td>12</td>\n",
       "      <td>31069</td>\n",
       "    </tr>\n",
       "    <tr>\n",
       "      <th>6</th>\n",
       "      <td>36</td>\n",
       "      <td>28446</td>\n",
       "    </tr>\n",
       "    <tr>\n",
       "      <th>7</th>\n",
       "      <td>39</td>\n",
       "      <td>17064</td>\n",
       "    </tr>\n",
       "    <tr>\n",
       "      <th>8</th>\n",
       "      <td>19</td>\n",
       "      <td>14540</td>\n",
       "    </tr>\n",
       "    <tr>\n",
       "      <th>9</th>\n",
       "      <td>15</td>\n",
       "      <td>12027</td>\n",
       "    </tr>\n",
       "    <tr>\n",
       "      <th>10</th>\n",
       "      <td>16</td>\n",
       "      <td>10977</td>\n",
       "    </tr>\n",
       "    <tr>\n",
       "      <th>11</th>\n",
       "      <td>11</td>\n",
       "      <td>9146</td>\n",
       "    </tr>\n",
       "    <tr>\n",
       "      <th>12</th>\n",
       "      <td>10</td>\n",
       "      <td>5333</td>\n",
       "    </tr>\n",
       "    <tr>\n",
       "      <th>13</th>\n",
       "      <td>18</td>\n",
       "      <td>1802</td>\n",
       "    </tr>\n",
       "    <tr>\n",
       "      <th>14</th>\n",
       "      <td>13</td>\n",
       "      <td>1711</td>\n",
       "    </tr>\n",
       "    <tr>\n",
       "      <th>15</th>\n",
       "      <td>14</td>\n",
       "      <td>1019</td>\n",
       "    </tr>\n",
       "  </tbody>\n",
       "</table>\n",
       "</div>"
      ],
      "text/plain": [
       "    CURRENTOPID  COUNTS\n",
       "0            32  143732\n",
       "1            31  126388\n",
       "2            33   96086\n",
       "3            17   45909\n",
       "4            34   36920\n",
       "5            12   31069\n",
       "6            36   28446\n",
       "7            39   17064\n",
       "8            19   14540\n",
       "9            15   12027\n",
       "10           16   10977\n",
       "11           11    9146\n",
       "12           10    5333\n",
       "13           18    1802\n",
       "14           13    1711\n",
       "15           14    1019"
      ]
     },
     "execution_count": 149,
     "metadata": {},
     "output_type": "execute_result"
    }
   ],
   "source": [
    "pre_month_df"
   ]
  },
  {
   "cell_type": "code",
   "execution_count": null,
   "metadata": {},
   "outputs": [],
   "source": []
  },
  {
   "cell_type": "code",
   "execution_count": null,
   "metadata": {},
   "outputs": [],
   "source": []
  },
  {
   "cell_type": "code",
   "execution_count": null,
   "metadata": {},
   "outputs": [],
   "source": []
  },
  {
   "cell_type": "code",
   "execution_count": null,
   "metadata": {},
   "outputs": [],
   "source": []
  },
  {
   "cell_type": "code",
   "execution_count": null,
   "metadata": {},
   "outputs": [],
   "source": []
  },
  {
   "cell_type": "code",
   "execution_count": null,
   "metadata": {},
   "outputs": [],
   "source": []
  }
 ],
 "metadata": {
  "kernelspec": {
   "display_name": "Python 2",
   "language": "python",
   "name": "python2"
  },
  "language_info": {
   "codemirror_mode": {
    "name": "ipython",
    "version": 2
   },
   "file_extension": ".py",
   "mimetype": "text/x-python",
   "name": "python",
   "nbconvert_exporter": "python",
   "pygments_lexer": "ipython2",
   "version": "2.7.14"
  }
 },
 "nbformat": 4,
 "nbformat_minor": 2
}
